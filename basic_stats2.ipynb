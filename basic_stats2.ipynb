{
  "nbformat": 4,
  "nbformat_minor": 0,
  "metadata": {
    "colab": {
      "provenance": []
    },
    "kernelspec": {
      "name": "python3",
      "display_name": "Python 3"
    },
    "language_info": {
      "name": "python"
    }
  },
  "cells": [
    {
      "cell_type": "code",
      "execution_count": 1,
      "metadata": {
        "colab": {
          "base_uri": "https://localhost:8080/"
        },
        "id": "86EbJs588hpe",
        "outputId": "97326dc2-97ed-49a0-a250-76a37b536bbd"
      },
      "outputs": [
        {
          "output_type": "stream",
          "name": "stdout",
          "text": [
            "99% Confidence Interval for mean durability: (1.0902, 1.3871)\n"
          ]
        }
      ],
      "source": [
        "import numpy as np\n",
        "from scipy import stats\n",
        "\n",
        "\n",
        "data = [1.13, 1.55, 1.43, 0.92, 1.25, 1.36, 1.32, 0.85, 1.07,\n",
        "        1.48, 1.20, 1.33, 1.18, 1.22, 1.29]\n",
        "\n",
        "\n",
        "n = len(data)\n",
        "mean = np.mean(data)\n",
        "std_dev = np.std(data, ddof=1)\n",
        "confidence = 0.99\n",
        "df = n - 1\n",
        "\n",
        "# t critical value\n",
        "t_crit = stats.t.ppf((1 + confidence) / 2, df)\n",
        "\n",
        "margin_error = t_crit * (std_dev / np.sqrt(n))\n",
        "\n",
        "# Confidence interval\n",
        "lower = mean - margin_error\n",
        "upper = mean + margin_error\n",
        "\n",
        "print(f\"99% Confidence Interval for mean durability: ({lower:.4f}, {upper:.4f})\")\n"
      ]
    },
    {
      "cell_type": "code",
      "source": [
        "import numpy as np\n",
        "from scipy.stats import norm\n",
        "\n",
        "data = [1.13, 1.55, 1.43, 0.92, 1.25, 1.36, 1.32, 0.85, 1.07,\n",
        "        1.48, 1.20, 1.33, 1.18, 1.22, 1.29]\n",
        "\n",
        "sigma = 0.2\n",
        "\n",
        "n = len(data)\n",
        "mean = np.mean(data)\n",
        "\n",
        "# Z-critical value for 99% confidence\n",
        "z_crit = norm.ppf(0.995)  # 0.995 because it's two-tailed\n",
        "\n",
        "margin_error = z_crit * (sigma / np.sqrt(n))\n",
        "\n",
        "# Confidence interval\n",
        "lower = mean - margin_error\n",
        "upper = mean + margin_error\n",
        "\n",
        "print(f\"99% Confidence Interval with known σ: ({lower:.4f}, {upper:.4f})\")\n"
      ],
      "metadata": {
        "colab": {
          "base_uri": "https://localhost:8080/"
        },
        "id": "uTukY7VN8w9t",
        "outputId": "5daf2a93-9d14-494d-e0b0-4032f353014b"
      },
      "execution_count": 2,
      "outputs": [
        {
          "output_type": "stream",
          "name": "stdout",
          "text": [
            "99% Confidence Interval with known σ: (1.1057, 1.3717)\n"
          ]
        }
      ]
    }
  ]
}