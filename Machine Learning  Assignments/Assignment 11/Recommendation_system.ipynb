{
  "nbformat": 4,
  "nbformat_minor": 0,
  "metadata": {
    "colab": {
      "provenance": []
    },
    "kernelspec": {
      "name": "python3",
      "display_name": "Python 3"
    },
    "language_info": {
      "name": "python"
    }
  },
  "cells": [
    {
      "cell_type": "code",
      "source": [
        "# --- 1. Import Libraries ---\n",
        "import pandas as pd\n",
        "import numpy as np\n",
        "from sklearn.feature_extraction.text import CountVectorizer\n",
        "from sklearn.preprocessing import MinMaxScaler\n",
        "from sklearn.metrics.pairwise import cosine_similarity\n",
        "from sklearn.model_selection import train_test_split\n",
        "from sklearn.metrics import precision_score, recall_score, f1_score\n",
        "\n",
        "# --- 2. Load Dataset ---\n",
        "df = pd.read_csv(\"/content/anime.csv\")\n",
        "print(\"Original Data Shape:\", df.shape)\n",
        "\n",
        "# --- 3. Data Cleaning ---\n",
        "# Drop duplicates\n",
        "df.drop_duplicates(subset='name', inplace=True)\n",
        "\n",
        "# Fill missing values\n",
        "df['genre'] = df['genre'].fillna('')\n",
        "df['type'] = df['type'].fillna('Unknown')\n",
        "df['episodes'] = pd.to_numeric(df['episodes'], errors='coerce').fillna(0).astype(int)\n",
        "df['rating'] = df['rating'].fillna(df['rating'].mean())\n",
        "df['members'] = df['members'].fillna(0)\n",
        "\n",
        "print(\"After Cleaning Shape:\", df.shape)\n",
        "\n",
        "# --- 4. Feature Engineering ---\n",
        "# Text feature: combine genre + type\n",
        "df['text_features'] = df['genre'] + \" \" + df['type']\n",
        "\n",
        "# Vectorize text features\n",
        "vectorizer = CountVectorizer()\n",
        "text_matrix = vectorizer.fit_transform(df['text_features'])\n",
        "\n",
        "# Numeric features: episodes, rating, members\n",
        "scaler = MinMaxScaler()\n",
        "num_matrix = scaler.fit_transform(df[['episodes', 'rating', 'members']])\n",
        "\n",
        "# Combine text and numeric features\n",
        "from scipy.sparse import hstack\n",
        "final_matrix = hstack([text_matrix, num_matrix])\n",
        "\n",
        "# --- 5. Cosine Similarity Matrix ---\n",
        "cosine_sim = cosine_similarity(final_matrix, final_matrix)\n",
        "\n",
        "# --- 6. Recommendation Function ---\n",
        "def recommend(anime_title, top_n=5, threshold=None):\n",
        "    if anime_title not in df['name'].values:\n",
        "        return f\"Anime '{anime_title}' not found in dataset.\"\n",
        "\n",
        "    idx = df[df['name'] == anime_title].index[0]\n",
        "    sim_scores = list(enumerate(cosine_sim[idx]))\n",
        "\n",
        "    # Sort by similarity score\n",
        "    sim_scores = sorted(sim_scores, key=lambda x: x[1], reverse=True)\n",
        "\n",
        "    # Remove itself (first one)\n",
        "    sim_scores = sim_scores[1:]\n",
        "\n",
        "    if threshold:\n",
        "        sim_scores = [s for s in sim_scores if s[1] >= threshold]\n",
        "\n",
        "    top_indices = [i[0] for i in sim_scores[:top_n]]\n",
        "    return df.iloc[top_indices][['name', 'genre', 'type', 'episodes', 'rating', 'members']]\n",
        "\n",
        "# --- 7. Train-Test Split for Evaluation ---\n",
        "train, test = train_test_split(df['name'], test_size=0.2, random_state=42)\n",
        "\n",
        "# Dummy evaluation: check if recommended titles appear in test set\n",
        "y_true, y_pred = [], []\n",
        "for anime in train.sample(10, random_state=42):\n",
        "    recs = recommend(anime, top_n=10)\n",
        "    rec_list = recs['name'].tolist() if isinstance(recs, pd.DataFrame) else []\n",
        "\n",
        "    y_true.append(1 if any(title in test.values for title in rec_list) else 0)\n",
        "    y_pred.append(1 if rec_list else 0)\n",
        "\n",
        "# --- 8. Metrics ---\n",
        "precision = precision_score(y_true, y_pred, zero_division=0)\n",
        "recall = recall_score(y_true, y_pred, zero_division=0)\n",
        "f1 = f1_score(y_true, y_pred, zero_division=0)\n",
        "\n",
        "print(f\"Precision: {precision:.2f}\")\n",
        "print(f\"Recall:    {recall:.2f}\")\n",
        "print(f\"F1-Score:  {f1:.2f}\")\n",
        "\n",
        "# --- 9. Example Output ---\n",
        "print(\"\\nRecommendations for 'Naruto':\\n\")\n",
        "print(recommend(\"Naruto\", top_n=5))\n"
      ],
      "metadata": {
        "colab": {
          "base_uri": "https://localhost:8080/"
        },
        "id": "VGb06NIGuVlf",
        "outputId": "2817013f-a24e-4eca-8e33-774363bdc3f8"
      },
      "execution_count": 10,
      "outputs": [
        {
          "output_type": "stream",
          "name": "stdout",
          "text": [
            "Original Data Shape: (12294, 7)\n",
            "After Cleaning Shape: (12292, 7)\n",
            "Precision: 0.80\n",
            "Recall:    1.00\n",
            "F1-Score:  0.89\n",
            "\n",
            "Recommendations for 'Naruto':\n",
            "\n",
            "                    name                                              genre  \\\n",
            "615   Naruto: Shippuuden  Action, Comedy, Martial Arts, Shounen, Super P...   \n",
            "206        Dragon Ball Z  Action, Adventure, Comedy, Fantasy, Martial Ar...   \n",
            "588      Dragon Ball Kai  Action, Adventure, Comedy, Fantasy, Martial Ar...   \n",
            "1930   Dragon Ball Super  Action, Adventure, Comedy, Fantasy, Martial Ar...   \n",
            "2615          Medaka Box  Action, Comedy, Ecchi, Martial Arts, School, S...   \n",
            "\n",
            "     type  episodes  rating  members  \n",
            "615    TV         0    7.94   533578  \n",
            "206    TV       291    8.32   375662  \n",
            "588    TV        97    7.95   116832  \n",
            "1930   TV         0    7.40   111443  \n",
            "2615   TV        12    7.21   110042  \n"
          ]
        }
      ]
    },
    {
      "cell_type": "markdown",
      "source": [
        "Interview Questions\n",
        "\n",
        "1. Can you explain the difference between user-based and item-based collaborative filtering?\n",
        "\n",
        "In user-based collaborative filtering, the system finds users with similar tastes or behavior to the target user and recommends items those similar users liked. In item-based collaborative filtering, the system finds items similar to what the target user has liked before and recommends those similar items, regardless of other users’ preferences\n",
        "\n",
        "\n",
        "2. What is collaborative filtering, and how does it work?\n",
        "\n",
        "Collaborative filtering is a recommendation method that predicts a user’s interests by learning from patterns in past behavior, such as ratings, purchases, or clicks. It works by finding similarities—either between users or between items—and using those similarities to suggest new items that the user is likely to enjoy."
      ],
      "metadata": {
        "id": "fXA80f5guth6"
      }
    }
  ]
}