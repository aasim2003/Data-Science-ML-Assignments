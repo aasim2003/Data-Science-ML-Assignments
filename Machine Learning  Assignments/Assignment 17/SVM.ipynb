{
  "nbformat": 4,
  "nbformat_minor": 0,
  "metadata": {
    "colab": {
      "provenance": []
    },
    "kernelspec": {
      "name": "python3",
      "display_name": "Python 3"
    },
    "language_info": {
      "name": "python"
    }
  },
  "cells": [
    {
      "cell_type": "code",
      "source": [
        "import pandas as pd\n",
        "import numpy as np\n",
        "import matplotlib.pyplot as plt\n",
        "import seaborn as sns\n",
        "\n",
        "# Load the dataset from the CSV file\n",
        "df = pd.read_csv('mushroom.csv')\n",
        "\n",
        "print(\"First 5 rows of the dataset:\")\n",
        "print(df.head())\n",
        "\n",
        "# Get a summary of the dataset\n",
        "print(\"\\nDataset Information:\")\n",
        "df.info()\n",
        "\n",
        "# Get statistical summary for numerical columns\n",
        "print(\"\\nStatistical Summary:\")\n",
        "print(df.describe())\n"
      ],
      "metadata": {
        "colab": {
          "base_uri": "https://localhost:8080/"
        },
        "id": "rZmWuEAptUpG",
        "outputId": "6fc8fd78-0641-4135-f2ac-e3bb0859a5d7"
      },
      "execution_count": 1,
      "outputs": [
        {
          "output_type": "stream",
          "name": "stdout",
          "text": [
            "First 5 rows of the dataset:\n",
            "   Unnamed: 0 cap_shape cap_surface cap_color bruises   odor gill_attachment  \\\n",
            "0        1167    sunken       scaly     white      no  anise      descending   \n",
            "1        1037    sunken     fibrous       red      no  anise         notched   \n",
            "2         309      flat     grooves    purple     yes   foul      descending   \n",
            "3         282      bell       scaly      pink     yes  fishy         notched   \n",
            "4         820      flat      smooth    yellow     yes  musty            free   \n",
            "\n",
            "  gill_spacing gill_size gill_color  ...  veil_type veil_color ring_number  \\\n",
            "0      distant     broad       pink  ...    partial      brown         two   \n",
            "1      crowded    narrow  chocolate  ...  universal      brown         two   \n",
            "2      crowded     broad     purple  ...  universal     yellow         two   \n",
            "3        close     broad     orange  ...    partial     yellow         two   \n",
            "4      crowded    narrow     orange  ...  universal      white        none   \n",
            "\n",
            "   ring_type spore_print_color population  habitat      class stalk_height  \\\n",
            "0  sheathing         chocolate  clustered    waste  poisonous    14.276173   \n",
            "1  sheathing             brown   numerous    waste     edible     3.952715   \n",
            "2  sheathing            purple   abundant    waste  poisonous     9.054265   \n",
            "3   cobwebby             green  clustered  grasses  poisonous     5.226499   \n",
            "4       none            yellow  clustered    urban  poisonous    14.037532   \n",
            "\n",
            "  cap_diameter  \n",
            "0     5.054983  \n",
            "1    19.068319  \n",
            "2     7.205884  \n",
            "3    20.932692  \n",
            "4    12.545245  \n",
            "\n",
            "[5 rows x 26 columns]\n",
            "\n",
            "Dataset Information:\n",
            "<class 'pandas.core.frame.DataFrame'>\n",
            "RangeIndex: 2000 entries, 0 to 1999\n",
            "Data columns (total 26 columns):\n",
            " #   Column                    Non-Null Count  Dtype  \n",
            "---  ------                    --------------  -----  \n",
            " 0   Unnamed: 0                2000 non-null   int64  \n",
            " 1   cap_shape                 2000 non-null   object \n",
            " 2   cap_surface               2000 non-null   object \n",
            " 3   cap_color                 2000 non-null   object \n",
            " 4   bruises                   2000 non-null   object \n",
            " 5   odor                      2000 non-null   object \n",
            " 6   gill_attachment           2000 non-null   object \n",
            " 7   gill_spacing              2000 non-null   object \n",
            " 8   gill_size                 2000 non-null   object \n",
            " 9   gill_color                2000 non-null   object \n",
            " 10  stalk_shape               2000 non-null   object \n",
            " 11  stalk_root                2000 non-null   object \n",
            " 12  stalk_surface_above_ring  2000 non-null   object \n",
            " 13  stalk_surface_below_ring  2000 non-null   object \n",
            " 14  stalk_color_above_ring    2000 non-null   object \n",
            " 15  stalk_color_below_ring    2000 non-null   object \n",
            " 16  veil_type                 2000 non-null   object \n",
            " 17  veil_color                2000 non-null   object \n",
            " 18  ring_number               2000 non-null   object \n",
            " 19  ring_type                 2000 non-null   object \n",
            " 20  spore_print_color         2000 non-null   object \n",
            " 21  population                2000 non-null   object \n",
            " 22  habitat                   2000 non-null   object \n",
            " 23  class                     2000 non-null   object \n",
            " 24  stalk_height              2000 non-null   float64\n",
            " 25  cap_diameter              2000 non-null   float64\n",
            "dtypes: float64(2), int64(1), object(23)\n",
            "memory usage: 406.4+ KB\n",
            "\n",
            "Statistical Summary:\n",
            "        Unnamed: 0  stalk_height  cap_diameter\n",
            "count  2000.000000   2000.000000   2000.000000\n",
            "mean    624.974000      8.449118     12.314345\n",
            "std     375.091938      3.697217      7.048845\n",
            "min       0.000000      2.000000      1.000000\n",
            "25%     290.000000      5.291009      5.723521\n",
            "50%     607.000000      8.318596     12.124902\n",
            "75%     957.250000     11.781272     18.698605\n",
            "max    1279.000000     15.095066     25.000054\n"
          ]
        }
      ]
    },
    {
      "cell_type": "code",
      "source": [
        "from sklearn.preprocessing import LabelEncoder\n",
        "\n",
        "# Create a copy for preprocessing\n",
        "df_encoded = df.copy()\n",
        "\n",
        "# Initialize the LabelEncoder\n",
        "le = LabelEncoder()\n",
        "\n",
        "# Iterate over each column and apply label encoding if it's an object type\n",
        "for col in df_encoded.columns:\n",
        "    if df_encoded[col].dtype == 'object':\n",
        "        df_encoded[col] = le.fit_transform(df_encoded[col])\n",
        "\n",
        "print(\"First 5 rows after encoding:\")\n",
        "print(df_encoded.head())\n",
        "\n",
        "from sklearn.model_selection import train_test_split\n",
        "from sklearn.preprocessing import StandardScaler\n",
        "\n",
        "# Define features (X) and the target (y)\n",
        "X = df_encoded.drop('class', axis=1)\n",
        "y = df_encoded['class']\n",
        "\n",
        "# Split data into training (80%) and testing (20%) sets\n",
        "X_train, X_test, y_train, y_test = train_test_split(X, y, test_size=0.2, random_state=42)\n",
        "\n",
        "# --- Feature Scaling---\n",
        "# Initialize the StandardScaler\n",
        "scaler = StandardScaler()\n",
        "\n",
        "# Fit\n",
        "X_train_scaled = scaler.fit_transform(X_train)\n",
        "\n",
        "# Transform the test data using the same scaler\n",
        "X_test_scaled = scaler.transform(X_test)\n",
        "\n",
        "print(\"Data has been successfully split and scaled.\")\n",
        "print(\"Training features shape:\", X_train_scaled.shape)\n",
        "print(\"Testing features shape:\", X_test_scaled.shape)\n"
      ],
      "metadata": {
        "colab": {
          "base_uri": "https://localhost:8080/"
        },
        "id": "QxFmRQ7Mtb5s",
        "outputId": "756487c1-8dcb-4e7b-d1a2-5320fc9a3e44"
      },
      "execution_count": 2,
      "outputs": [
        {
          "output_type": "stream",
          "name": "stdout",
          "text": [
            "First 5 rows after encoding:\n",
            "   Unnamed: 0  cap_shape  cap_surface  cap_color  bruises  odor  \\\n",
            "0        1167          4            2          7        0     1   \n",
            "1        1037          4            0          6        0     1   \n",
            "2         309          3            1          5        1     4   \n",
            "3         282          0            2          4        1     3   \n",
            "4         820          3            3          8        1     5   \n",
            "\n",
            "   gill_attachment  gill_spacing  gill_size  gill_color  ...  veil_type  \\\n",
            "0                1             2          0           7  ...          0   \n",
            "1                3             1          1           3  ...          1   \n",
            "2                1             1          0           8  ...          1   \n",
            "3                3             0          0           6  ...          0   \n",
            "4                2             1          1           6  ...          1   \n",
            "\n",
            "   veil_color  ring_number  ring_type  spore_print_color  population  habitat  \\\n",
            "0           0            2          6                  3           1        5   \n",
            "1           0            2          6                  1           2        5   \n",
            "2           3            2          6                  6           0        5   \n",
            "3           3            2          0                  4           1        0   \n",
            "4           2            0          4                  8           1        4   \n",
            "\n",
            "   class  stalk_height  cap_diameter  \n",
            "0      1     14.276173      5.054983  \n",
            "1      0      3.952715     19.068319  \n",
            "2      1      9.054265      7.205884  \n",
            "3      1      5.226499     20.932692  \n",
            "4      1     14.037532     12.545245  \n",
            "\n",
            "[5 rows x 26 columns]\n",
            "Data has been successfully split and scaled.\n",
            "Training features shape: (1600, 25)\n",
            "Testing features shape: (400, 25)\n"
          ]
        }
      ]
    },
    {
      "cell_type": "code",
      "source": [
        "# Set the plotting style\n",
        "sns.set(style=\"whitegrid\")\n",
        "\n",
        "plt.figure(figsize=(8, 6))\n",
        "sns.countplot(x='class', data=df_encoded)\n",
        "plt.title('Distribution of Mushroom Classes (0 = Edible, 1 = Poisonous)')\n",
        "plt.xlabel('Class')\n",
        "plt.ylabel('Count')\n",
        "plt.show()\n",
        "\n"
      ],
      "metadata": {
        "colab": {
          "base_uri": "https://localhost:8080/",
          "height": 573
        },
        "id": "ls4wI4mWtjRh",
        "outputId": "b8de2fb9-e969-4317-f2e9-09a9be574f4d"
      },
      "execution_count": 7,
      "outputs": [
        {
          "output_type": "display_data",
          "data": {
            "text/plain": [
              "<Figure size 800x600 with 1 Axes>"
            ],
            "image/png": "[encoded data removed]"
          },
          "metadata": {}
        }
      ]
    },
    {
      "cell_type": "code",
      "source": [
        "from sklearn.svm import SVC\n",
        "from sklearn.metrics import accuracy_score, classification_report\n",
        "\n",
        "# Initialize the SVM classifier\n",
        "svm_model = SVC(kernel='linear', random_state=42)\n",
        "\n",
        "# Train the model on the SCALED training data\n",
        "print(\"Training the SVM model...\")\n",
        "svm_model.fit(X_train_scaled, y_train)\n",
        "print(\"Model training is complete.\")\n",
        "\n",
        "# Make predictions on the SCALED test data\n",
        "y_pred = svm_model.predict(X_test_scaled)\n",
        "\n",
        "# Calculate and print the accuracy\n",
        "accuracy = accuracy_score(y_test, y_pred)\n",
        "print(f\"\\nSVM Model Accuracy: {accuracy:.4f}\")\n",
        "\n",
        "# Print a detailed classification report\n",
        "print(\"\\nClassification Report:\")\n",
        "print(classification_report(y_test, y_pred, target_names=['Edible', 'Poisonous']))\n"
      ],
      "metadata": {
        "colab": {
          "base_uri": "https://localhost:8080/"
        },
        "id": "LanpPtAZtpFL",
        "outputId": "8cdc7fc2-5ea7-41b0-98e6-9c74771e587d"
      },
      "execution_count": 3,
      "outputs": [
        {
          "output_type": "stream",
          "name": "stdout",
          "text": [
            "Training the SVM model...\n",
            "Model training is complete.\n",
            "\n",
            "SVM Model Accuracy: 0.6675\n",
            "\n",
            "Classification Report:\n",
            "              precision    recall  f1-score   support\n",
            "\n",
            "      Edible       0.00      0.00      0.00       133\n",
            "   Poisonous       0.67      1.00      0.80       267\n",
            "\n",
            "    accuracy                           0.67       400\n",
            "   macro avg       0.33      0.50      0.40       400\n",
            "weighted avg       0.45      0.67      0.53       400\n",
            "\n"
          ]
        },
        {
          "output_type": "stream",
          "name": "stderr",
          "text": [
            "/usr/local/lib/python3.12/dist-packages/sklearn/metrics/_classification.py:1565: UndefinedMetricWarning: Precision is ill-defined and being set to 0.0 in labels with no predicted samples. Use `zero_division` parameter to control this behavior.\n",
            "  _warn_prf(average, modifier, f\"{metric.capitalize()} is\", len(result))\n",
            "/usr/local/lib/python3.12/dist-packages/sklearn/metrics/_classification.py:1565: UndefinedMetricWarning: Precision is ill-defined and being set to 0.0 in labels with no predicted samples. Use `zero_division` parameter to control this behavior.\n",
            "  _warn_prf(average, modifier, f\"{metric.capitalize()} is\", len(result))\n",
            "/usr/local/lib/python3.12/dist-packages/sklearn/metrics/_classification.py:1565: UndefinedMetricWarning: Precision is ill-defined and being set to 0.0 in labels with no predicted samples. Use `zero_division` parameter to control this behavior.\n",
            "  _warn_prf(average, modifier, f\"{metric.capitalize()} is\", len(result))\n"
          ]
        }
      ]
    },
    {
      "cell_type": "code",
      "source": [
        "from sklearn.metrics import confusion_matrix\n",
        "\n",
        "# Generate the confusion matrix\n",
        "cm = confusion_matrix(y_test, y_pred)\n",
        "\n",
        "# Plot the confusion matrix as a heatmap\n",
        "plt.figure(figsize=(8, 6))\n",
        "sns.heatmap(cm, annot=True, fmt='d', cmap='Blues',\n",
        "            xticklabels=['Edible', 'Poisonous'],\n",
        "            yticklabels=['Edible', 'Poisonous'])\n",
        "plt.xlabel('Predicted Class')\n",
        "plt.ylabel('Actual Class')\n",
        "plt.title('SVM Classifier Confusion Matrix')\n",
        "plt.show()\n",
        "\n"
      ],
      "metadata": {
        "colab": {
          "base_uri": "https://localhost:8080/",
          "height": 564
        },
        "id": "beBpKXONt7PI",
        "outputId": "05be4b30-52fb-4570-db8c-8e02e047eeba"
      },
      "execution_count": 4,
      "outputs": [
        {
          "output_type": "display_data",
          "data": {
            "text/plain": [
              "<Figure size 800x600 with 2 Axes>"
            ],
            "image/png": "[encoded data removed]"
          },
          "metadata": {}
        }
      ]
    },
    {
      "cell_type": "code",
      "source": [
        "from sklearn.model_selection import GridSearchCV\n",
        "\n",
        "# Define a smaller parameter grid to speed up the search\n",
        "param_grid = {\n",
        "    'C': [0.1, 1, 10],  # Regularization parameter\n",
        "    'kernel': ['linear', 'rbf']  # Different kernel types\n",
        "}\n",
        "\n",
        "# Initialize GridSearchCV\n",
        "grid_search = GridSearchCV(SVC(random_state=42), param_grid, cv=3, verbose=2, n_jobs=-1)\n",
        "\n",
        "print(\"Starting hyperparameter tuning...\")\n",
        "grid_search.fit(X_train_scaled, y_train)\n",
        "print(\"Tuning complete.\")\n",
        "\n",
        "# Print the best parameters found\n",
        "print(\"\\nBest Parameters:\", grid_search.best_params_)\n"
      ],
      "metadata": {
        "colab": {
          "base_uri": "https://localhost:8080/"
        },
        "id": "oQnCQ2GIuCYC",
        "outputId": "cc3cc31b-86c6-40bb-d609-cb96499b2a8d"
      },
      "execution_count": 5,
      "outputs": [
        {
          "output_type": "stream",
          "name": "stdout",
          "text": [
            "Starting hyperparameter tuning...\n",
            "Fitting 3 folds for each of 6 candidates, totalling 18 fits\n",
            "Tuning complete.\n",
            "\n",
            "Best Parameters: {'C': 10, 'kernel': 'rbf'}\n"
          ]
        }
      ]
    },
    {
      "cell_type": "code",
      "source": [
        "# Train a model with the best parameters found by GridSearchCV\n",
        "best_svm = grid_search.best_estimator_\n",
        "best_svm.fit(X_train_scaled, y_train)\n",
        "y_pred_best = best_svm.predict(X_test_scaled)\n",
        "\n",
        "print(\"--- Performance of the Tuned SVM Model ---\")\n",
        "print(f\"Accuracy: {accuracy_score(y_test, y_pred_best):.4f}\")\n",
        "print(classification_report(y_test, y_pred_best, target_names=['Edible', 'Poisonous']))\n",
        "\n",
        "# Final analysis\n",
        "print(\"\"\"\n",
        "--- Analysis of SVM Performance ---\n",
        "\n",
        "Strengths:\n",
        "- High Accuracy: The SVM model, especially after tuning, achieves excellent accuracy, indicating that the mushroom features are highly informative.\n",
        "- Robust to High Dimensions: The dataset has many features, and SVMs handle this high-dimensional space effectively.\n",
        "\n",
        "Weaknesses:\n",
        "- Computationally Intensive: Tuning the hyperparameters with GridSearchCV can be time-consuming.\n",
        "- Requires Feature Scaling: As we discovered, SVMs are sensitive to feature scales, making scaling a mandatory preprocessing step for good performance and to avoid training issues.\n",
        "\n",
        "Conclusion:\n",
        "The SVM is a powerful and highly effective classifier for this dataset, provided that the data is properly preprocessed and scaled.\n",
        "\"\"\")\n"
      ],
      "metadata": {
        "colab": {
          "base_uri": "https://localhost:8080/"
        },
        "id": "MtWnN1K9uMEg",
        "outputId": "eb58a564-ef8c-40a3-e400-32f6012aa760"
      },
      "execution_count": 6,
      "outputs": [
        {
          "output_type": "stream",
          "name": "stdout",
          "text": [
            "--- Performance of the Tuned SVM Model ---\n",
            "Accuracy: 0.8675\n",
            "              precision    recall  f1-score   support\n",
            "\n",
            "      Edible       0.83      0.75      0.79       133\n",
            "   Poisonous       0.88      0.93      0.90       267\n",
            "\n",
            "    accuracy                           0.87       400\n",
            "   macro avg       0.86      0.84      0.85       400\n",
            "weighted avg       0.87      0.87      0.87       400\n",
            "\n",
            "\n",
            "--- Analysis of SVM Performance ---\n",
            "\n",
            "Strengths:\n",
            "- High Accuracy: The SVM model, especially after tuning, achieves excellent accuracy, indicating that the mushroom features are highly informative.\n",
            "- Robust to High Dimensions: The dataset has many features, and SVMs handle this high-dimensional space effectively.\n",
            "\n",
            "Weaknesses:\n",
            "- Computationally Intensive: Tuning the hyperparameters with GridSearchCV can be time-consuming.\n",
            "- Requires Feature Scaling: As we discovered, SVMs are sensitive to feature scales, making scaling a mandatory preprocessing step for good performance and to avoid training issues.\n",
            "\n",
            "Conclusion:\n",
            "The SVM is a powerful and highly effective classifier for this dataset, provided that the data is properly preprocessed and scaled.\n",
            "\n"
          ]
        }
      ]
    },
    {
      "cell_type": "code",
      "source": [],
      "metadata": {
        "id": "E6mEGrcKuUGa"
      },
      "execution_count": null,
      "outputs": []
    },
    {
      "cell_type": "markdown",
      "source": [
        "**3.\tDiscuss practical implications of SVM in real-world classification tasks.**\n",
        "\n",
        "Effective in High-Dimensional Spaces: SVMs are well-suited for tasks with a large number of features, such as image recognition, text classification, and bioinformatics, where each data point (e.g., an image or a document) is described by thousands of features.\n",
        "\n",
        "Memory-Efficient: Because SVMs only use a subset of training points (the support vectors) to create the decision boundary, they are often more memory-efficient than other algorithms that require the entire dataset.\n",
        "\n",
        "Robust with Clear Separation: They perform exceptionally well when there is a clear margin of separation between classes. This makes them ideal for tasks like face detection (distinguishing face from non-face pixels) or spam filtering (separating spam from non-spam emails).\n",
        "\n",
        "Versatile with Kernels: By using different kernels (linear, RBF, polynomial), SVMs can solve both linear and complex non-linear problems. This versatility allows them to be applied to a wide range of tasks, from handwriting recognition to cancer cell classification.\n"
      ],
      "metadata": {
        "id": "nqp9kz_YuY4N"
      }
    }
  ]
}