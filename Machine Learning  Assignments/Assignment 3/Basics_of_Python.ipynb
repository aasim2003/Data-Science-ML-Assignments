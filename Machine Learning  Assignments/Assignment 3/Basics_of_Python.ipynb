{
  "nbformat": 4,
  "nbformat_minor": 0,
  "metadata": {
    "colab": {
      "provenance": []
    },
    "kernelspec": {
      "name": "python3",
      "display_name": "Python 3"
    },
    "language_info": {
      "name": "python"
    }
  },
  "cells": [
    {
      "cell_type": "code",
      "execution_count": 1,
      "metadata": {
        "colab": {
          "base_uri": "https://localhost:8080/"
        },
        "id": "B7nRM03VDicW",
        "outputId": "d97aedd4-33ae-4519-cfa6-42557b8a3277"
      },
      "outputs": [
        {
          "output_type": "stream",
          "name": "stdout",
          "text": [
            "Enter a number: 5\n",
            "5 is a prime number.\n"
          ]
        }
      ],
      "source": [
        "num = int(input(\"Enter a number: \")) #input statement\n",
        "\n",
        "if num > 1: #checks if num greater than 1\n",
        "    for i in range(2, num): #for loop\n",
        "        if num % i == 0:\n",
        "            print(num, \"is not a prime number.\")\n",
        "            break\n",
        "    else:\n",
        "        print(num, \"is a prime number.\")\n",
        "else:\n",
        "    print(num, \"is not a prime number.\")\n"
      ]
    },
    {
      "cell_type": "code",
      "source": [
        "import random\n",
        "\n",
        "num1 = random.randint(1, 10) #create 2 random no\n",
        "num2 = random.randint(1, 10)\n",
        "\n",
        "user_answer = int(input(f\"What is {num1} × {num2}? \"))\n",
        "\n",
        "correct_answer = num1 * num2\n",
        "\n",
        "if user_answer == correct_answer:\n",
        "    print(\"Correct! Good job!\")\n",
        "else:\n",
        "    print(f\"Incorrect. The correct answer is {correct_answer}.\")\n"
      ],
      "metadata": {
        "colab": {
          "base_uri": "https://localhost:8080/"
        },
        "id": "YgyUxUHjEQYy",
        "outputId": "591288dd-2905-4795-a029-a2c28e944374"
      },
      "execution_count": 9,
      "outputs": [
        {
          "output_type": "stream",
          "name": "stdout",
          "text": [
            "What is 5 × 3? 1\n",
            "Incorrect. The correct answer is 15.\n"
          ]
        }
      ]
    },
    {
      "cell_type": "code",
      "source": [
        "# This prints the squares of all even numbers from 100 to 200\n",
        "\n",
        "for num in range(100, 201):\n",
        "    if num % 2 == 0:\n",
        "        print(f\"{num} squared is {num ** 2}\")\n"
      ],
      "metadata": {
        "colab": {
          "base_uri": "https://localhost:8080/"
        },
        "collapsed": true,
        "id": "V_ykVyEJEynd",
        "outputId": "ea772033-ff2e-4aad-96a0-6608b3f8b1d7"
      },
      "execution_count": 3,
      "outputs": [
        {
          "output_type": "stream",
          "name": "stdout",
          "text": [
            "100 squared is 10000\n",
            "102 squared is 10404\n",
            "104 squared is 10816\n",
            "106 squared is 11236\n",
            "108 squared is 11664\n",
            "110 squared is 12100\n",
            "112 squared is 12544\n",
            "114 squared is 12996\n",
            "116 squared is 13456\n",
            "118 squared is 13924\n",
            "120 squared is 14400\n",
            "122 squared is 14884\n",
            "124 squared is 15376\n",
            "126 squared is 15876\n",
            "128 squared is 16384\n",
            "130 squared is 16900\n",
            "132 squared is 17424\n",
            "134 squared is 17956\n",
            "136 squared is 18496\n",
            "138 squared is 19044\n",
            "140 squared is 19600\n",
            "142 squared is 20164\n",
            "144 squared is 20736\n",
            "146 squared is 21316\n",
            "148 squared is 21904\n",
            "150 squared is 22500\n",
            "152 squared is 23104\n",
            "154 squared is 23716\n",
            "156 squared is 24336\n",
            "158 squared is 24964\n",
            "160 squared is 25600\n",
            "162 squared is 26244\n",
            "164 squared is 26896\n",
            "166 squared is 27556\n",
            "168 squared is 28224\n",
            "170 squared is 28900\n",
            "172 squared is 29584\n",
            "174 squared is 30276\n",
            "176 squared is 30976\n",
            "178 squared is 31684\n",
            "180 squared is 32400\n",
            "182 squared is 33124\n",
            "184 squared is 33856\n",
            "186 squared is 34596\n",
            "188 squared is 35344\n",
            "190 squared is 36100\n",
            "192 squared is 36864\n",
            "194 squared is 37636\n",
            "196 squared is 38416\n",
            "198 squared is 39204\n",
            "200 squared is 40000\n"
          ]
        }
      ]
    },
    {
      "cell_type": "code",
      "source": [
        "input_text = \"Hello how are you  ? Hello Hello ???\"\n",
        "\n",
        "words = input_text.split() #split text in words\n",
        "#dictionary\n",
        "word_count = {}\n",
        "\n",
        "for word in words:\n",
        "    if word in word_count:\n",
        "        word_count[word] += 1\n",
        "    else:\n",
        "        word_count[word] = 1\n",
        "\n",
        "# Print word counts\n",
        "for word, count in word_count.items():\n",
        "    print(f\"'{word}': {count}\")\n"
      ],
      "metadata": {
        "colab": {
          "base_uri": "https://localhost:8080/"
        },
        "id": "yfyXF0JwFPqI",
        "outputId": "0bd2ce1c-52c8-4adf-cb74-9803c77d6403"
      },
      "execution_count": 7,
      "outputs": [
        {
          "output_type": "stream",
          "name": "stdout",
          "text": [
            "'Hello': 3\n",
            "'how': 1\n",
            "'are': 1\n",
            "'you': 1\n",
            "'?': 1\n",
            "'???': 1\n"
          ]
        }
      ]
    },
    {
      "cell_type": "code",
      "source": [
        "def is_palindrome(text):\n",
        "    # Remove non-alphanumeric characters and convert to lowercase\n",
        "    cleaned = ''.join(char.lower() for char in text if char.isalnum())\n",
        "    return cleaned == cleaned[::-1]\n",
        "\n",
        "# Ask the user to enter a string\n",
        "user_input = input(\"Enter a word or phrase to check if it's a palindrome: \")\n",
        "\n",
        "# Check and print result\n",
        "if is_palindrome(user_input):\n",
        "    print(\"It's a palindrome!\")\n",
        "else:\n",
        "    print(\"It's not a palindrome.\")\n",
        "\n"
      ],
      "metadata": {
        "colab": {
          "base_uri": "https://localhost:8080/"
        },
        "id": "bEKF3yajGQGc",
        "outputId": "49b6352d-5726-40fe-d690-aa4a20662e4e"
      },
      "execution_count": 13,
      "outputs": [
        {
          "output_type": "stream",
          "name": "stdout",
          "text": [
            "Enter a word or phrase to check if it's a palindrome: racecar\n",
            "It's a palindrome!\n"
          ]
        }
      ]
    }
  ]
}